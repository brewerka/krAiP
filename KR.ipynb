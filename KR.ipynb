{
  "nbformat": 4,
  "nbformat_minor": 0,
  "metadata": {
    "colab": {
      "provenance": [],
      "authorship_tag": "ABX9TyP7FD0+sN8kFbnJxyCIo1qP"
    },
    "kernelspec": {
      "name": "python3",
      "display_name": "Python 3"
    },
    "language_info": {
      "name": "python"
    }
  },
  "cells": [
    {
      "cell_type": "markdown",
      "source": [
        "Импортируем необходимые пакеты из TensorFlow, включая Keras API для построения нейронных сетей, датасет MNIST и некоторые слои для архитектуры MLP."
      ],
      "metadata": {
        "id": "4FvKVrLRVryQ"
      }
    },
    {
      "cell_type": "code",
      "execution_count": null,
      "metadata": {
        "id": "LeuTv-QZJnoF"
      },
      "outputs": [],
      "source": [
        "import tensorflow as tf\n",
        "from tensorflow import keras\n",
        "from tensorflow.keras.datasets import mnist\n",
        "from tensorflow.keras.models import Sequential\n",
        "from tensorflow.keras.layers import Dense, Flatten"
      ]
    },
    {
      "cell_type": "markdown",
      "source": [
        "Загружаем датасет MNIST"
      ],
      "metadata": {
        "id": "ifiuGQi4WExh"
      }
    },
    {
      "cell_type": "code",
      "source": [
        "(x_train, y_train), (x_test, y_test) = mnist.load_data()"
      ],
      "metadata": {
        "colab": {
          "base_uri": "https://localhost:8080/"
        },
        "id": "qa2mEaIsWKaL",
        "outputId": "4e58bbd0-31d7-484b-ad47-0c956ed4abdb"
      },
      "execution_count": null,
      "outputs": [
        {
          "output_type": "stream",
          "name": "stdout",
          "text": [
            "Downloading data from https://storage.googleapis.com/tensorflow/tf-keras-datasets/mnist.npz\n",
            "11490434/11490434 [==============================] - 0s 0us/step\n"
          ]
        }
      ]
    },
    {
      "cell_type": "markdown",
      "source": [
        "Обрабатываем входные данные. Преобразуем их в float32 и масштабируем до значений от 0 до 1. Еще преобразуем данные метки в формат с односторонним кодированием."
      ],
      "metadata": {
        "id": "L22r8OnIWRa9"
      }
    },
    {
      "cell_type": "code",
      "source": [
        "x_train = x_train.astype('float32') / 255\n",
        "x_test = x_test.astype('float32') / 255\n",
        "y_train = keras.utils.to_categorical(y_train, 10)\n",
        "y_test = keras.utils.to_categorical(y_test, 10)"
      ],
      "metadata": {
        "id": "-vJTKznVWpvj"
      },
      "execution_count": null,
      "outputs": []
    },
    {
      "cell_type": "markdown",
      "source": [
        "Входной слой преобразуеи изображения размером 28x28 пикселей в 784мерный вектор. Существует два скрытых слоя со 128 и 64 узлами соответственно, каждый из которых использует функцию активации ReLU. Выходной уровень имеет 10 узлов, соответствующих 10 возможным цифрам, и использует функцию активации softmax для вывода распределения вероятностей по классам."
      ],
      "metadata": {
        "id": "haPQJVq8WtGv"
      }
    },
    {
      "cell_type": "code",
      "source": [
        "model = Sequential()\n",
        "model.add(Flatten(input_shape=(28, 28)))\n",
        "model.add(Dense(128, activation='relu'))\n",
        "model.add(Dense(64, activation='relu'))\n",
        "model.add(Dense(10, activation='softmax'))"
      ],
      "metadata": {
        "id": "7b3cAPB1W8T7"
      },
      "execution_count": null,
      "outputs": []
    },
    {
      "cell_type": "markdown",
      "source": [
        "Скомпелируем модель, укажем функцию потерь, оптимизатор и оценочную метрику"
      ],
      "metadata": {
        "id": "mFD_BR1oXAi_"
      }
    },
    {
      "cell_type": "code",
      "source": [
        "model.compile(loss='categorical_crossentropy', optimizer='adam', metrics=['accuracy'])"
      ],
      "metadata": {
        "id": "chxORpbRW_W9"
      },
      "execution_count": null,
      "outputs": []
    },
    {
      "cell_type": "markdown",
      "source": [
        "Обучим модель на обуч. данных, с помощью 32 пак. и обучая 10 epoch. Укажем данные тестирования, которые у нас используются для проверки во время обучения"
      ],
      "metadata": {
        "id": "9G99vjROXXM4"
      }
    },
    {
      "cell_type": "code",
      "source": [
        "model.fit(x_train, y_train, epochs=10, batch_size=32, validation_data=(x_test, y_test))"
      ],
      "metadata": {
        "colab": {
          "base_uri": "https://localhost:8080/"
        },
        "id": "nsY5xW9NX-aF",
        "outputId": "aa894888-8600-4800-b30e-292592ab5cf1"
      },
      "execution_count": null,
      "outputs": [
        {
          "output_type": "stream",
          "name": "stdout",
          "text": [
            "Epoch 1/10\n",
            "1875/1875 [==============================] - 11s 5ms/step - loss: 0.2416 - accuracy: 0.9292 - val_loss: 0.1340 - val_accuracy: 0.9583\n",
            "Epoch 2/10\n",
            "1875/1875 [==============================] - 9s 5ms/step - loss: 0.1029 - accuracy: 0.9696 - val_loss: 0.0900 - val_accuracy: 0.9718\n",
            "Epoch 3/10\n",
            "1875/1875 [==============================] - 9s 5ms/step - loss: 0.0699 - accuracy: 0.9782 - val_loss: 0.0980 - val_accuracy: 0.9675\n",
            "Epoch 4/10\n",
            "1875/1875 [==============================] - 10s 5ms/step - loss: 0.0537 - accuracy: 0.9826 - val_loss: 0.0814 - val_accuracy: 0.9746\n",
            "Epoch 5/10\n",
            "1875/1875 [==============================] - 9s 5ms/step - loss: 0.0414 - accuracy: 0.9865 - val_loss: 0.0749 - val_accuracy: 0.9771\n",
            "Epoch 6/10\n",
            "1875/1875 [==============================] - 8s 4ms/step - loss: 0.0332 - accuracy: 0.9890 - val_loss: 0.0880 - val_accuracy: 0.9743\n",
            "Epoch 7/10\n",
            "1875/1875 [==============================] - 9s 5ms/step - loss: 0.0289 - accuracy: 0.9901 - val_loss: 0.0918 - val_accuracy: 0.9748\n",
            "Epoch 8/10\n",
            "1875/1875 [==============================] - 9s 5ms/step - loss: 0.0240 - accuracy: 0.9923 - val_loss: 0.0922 - val_accuracy: 0.9763\n",
            "Epoch 9/10\n",
            "1875/1875 [==============================] - 8s 4ms/step - loss: 0.0226 - accuracy: 0.9923 - val_loss: 0.0908 - val_accuracy: 0.9755\n",
            "Epoch 10/10\n",
            "1875/1875 [==============================] - 9s 5ms/step - loss: 0.0201 - accuracy: 0.9934 - val_loss: 0.0989 - val_accuracy: 0.9780\n"
          ]
        },
        {
          "output_type": "execute_result",
          "data": {
            "text/plain": [
              "<keras.callbacks.History at 0x7fccdeb9cfd0>"
            ]
          },
          "metadata": {},
          "execution_count": 6
        }
      ]
    },
    {
      "cell_type": "markdown",
      "source": [
        "Оцениваниваем модели по данным тестирования(потери и точность тоже)"
      ],
      "metadata": {
        "id": "oEYRyFbiYDzX"
      }
    },
    {
      "cell_type": "code",
      "source": [
        "loss, accuracy = model.evaluate(x_test, y_test)\n",
        "print(f'Test loss: {loss:.4f}, accuracy: {accuracy:.4f}')"
      ],
      "metadata": {
        "colab": {
          "base_uri": "https://localhost:8080/"
        },
        "id": "cUIUslVDYNCo",
        "outputId": "2715666b-3433-4687-ee6b-2f2bc5c5ac8d"
      },
      "execution_count": null,
      "outputs": [
        {
          "output_type": "stream",
          "name": "stdout",
          "text": [
            "313/313 [==============================] - 1s 3ms/step - loss: 0.0989 - accuracy: 0.9780\n",
            "Test loss: 0.0989, accuracy: 0.9780\n"
          ]
        }
      ]
    }
  ]
}